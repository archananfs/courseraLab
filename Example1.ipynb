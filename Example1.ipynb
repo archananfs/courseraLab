{
    "cells": [
        {
            "cell_type": "markdown",
            "metadata": {
                "collapsed": true,
                "id": "6a484f66-1741-4041-b922-66bf4d0fb57d",
                "jupyter": {
                    "outputs_hidden": true
                }
            },
            "source": "### This program prints helloworld\n"
        },
        {
            "cell_type": "code",
            "execution_count": 1,
            "metadata": {
                "id": "04632af0-c228-4612-bfd1-c3cb8c9f3f98"
            },
            "outputs": [
                {
                    "name": "stdout",
                    "output_type": "stream",
                    "text": "Hello world\n"
                }
            ],
            "source": "print(\"Hello world\")"
        },
        {
            "cell_type": "code",
            "execution_count": null,
            "metadata": {
                "id": "f8463a0f-f0f0-4ebd-80a7-13fbf34a3c97"
            },
            "outputs": [],
            "source": ""
        }
    ],
    "metadata": {
        "kernelspec": {
            "display_name": "Python 3.11",
            "language": "python",
            "name": "python3"
        },
        "language_info": {
            "codemirror_mode": {
                "name": "ipython",
                "version": 3
            },
            "file_extension": ".py",
            "mimetype": "text/x-python",
            "name": "python",
            "nbconvert_exporter": "python",
            "pygments_lexer": "ipython3",
            "version": "3.11.13"
        }
    },
    "nbformat": 4,
    "nbformat_minor": 4
}